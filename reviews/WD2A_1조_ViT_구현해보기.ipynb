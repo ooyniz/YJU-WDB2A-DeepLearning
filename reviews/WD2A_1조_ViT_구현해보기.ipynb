{
  "nbformat": 4,
  "nbformat_minor": 0,
  "metadata": {
    "colab": {
      "name": "WD2A_1조_ViT 구현해보기.ipynb",
      "provenance": [],
      "collapsed_sections": []
    },
    "kernelspec": {
      "name": "python3",
      "display_name": "Python 3"
    },
    "language_info": {
      "name": "python"
    },
    "accelerator": "GPU"
  },
  "cells": [
    {
      "cell_type": "markdown",
      "source": [
        "# 이미지 분류를 위한 ViT(Vision Transformer) 모델 구현 실습"
      ],
      "metadata": {
        "id": "uoULVq8Y98Nr"
      }
    },
    {
      "cell_type": "markdown",
      "source": [
        "- 참고문헌: [관련 GitHub](https://github.com/keras-team/keras-io/blob/master/examples/vision/image_classification_with_vision_transformer.py)  \n",
        "<br>  \n",
        "- [ViT(Vision Transformer)](https://arxiv.org/abs/2010.11929) 모델을 구현해보았습니다. 이미지 분류를 위해 CIFAR-100 데이터 세트에서 시현했습니다. ViT 모델은 컨볼루션 레이어를 사용하지 않고 이미지 패치 시퀀스에 자가 주의를 갖는 Transformer 아키텍처를 적용합니다."
      ],
      "metadata": {
        "id": "VQMZ0bpS-OXW"
      }
    },
    {
      "cell_type": "markdown",
      "source": [
        "## 구현에 필요한 초기 세팅"
      ],
      "metadata": {
        "id": "q_g8j2rzBBl6"
      }
    },
    {
      "cell_type": "markdown",
      "source": [
        "- 최신 버전의 [TensorFlow Addons](https://www.tensorflow.org/addons/overview?hl=ko)를 설치 해줍니다. ↓"
      ],
      "metadata": {
        "id": "MisdywiSBpKe"
      }
    },
    {
      "cell_type": "code",
      "source": [
        "pip install -U tensorflow-addons"
      ],
      "metadata": {
        "colab": {
          "base_uri": "https://localhost:8080/"
        },
        "id": "4nODvVEq-JBB",
        "outputId": "da1ce6e0-adf7-4e10-98a0-e826f456b1f2"
      },
      "execution_count": null,
      "outputs": [
        {
          "output_type": "stream",
          "name": "stdout",
          "text": [
            "Looking in indexes: https://pypi.org/simple, https://us-python.pkg.dev/colab-wheels/public/simple/\n",
            "Collecting tensorflow-addons\n",
            "  Downloading tensorflow_addons-0.17.0-cp37-cp37m-manylinux_2_17_x86_64.manylinux2014_x86_64.whl (1.1 MB)\n",
            "\u001b[K     |████████████████████████████████| 1.1 MB 24.1 MB/s \n",
            "\u001b[?25hRequirement already satisfied: packaging in /usr/local/lib/python3.7/dist-packages (from tensorflow-addons) (21.3)\n",
            "Requirement already satisfied: typeguard>=2.7 in /usr/local/lib/python3.7/dist-packages (from tensorflow-addons) (2.7.1)\n",
            "Requirement already satisfied: pyparsing!=3.0.5,>=2.0.2 in /usr/local/lib/python3.7/dist-packages (from packaging->tensorflow-addons) (3.0.9)\n",
            "Installing collected packages: tensorflow-addons\n",
            "Successfully installed tensorflow-addons-0.17.0\n"
          ]
        }
      ]
    },
    {
      "cell_type": "markdown",
      "source": [
        "- tensorflow를 사용하기 위해, 필요한 라이브러리를 import 해줍니다. ↓"
      ],
      "metadata": {
        "id": "Qqt9zQzDDnDN"
      }
    },
    {
      "cell_type": "code",
      "source": [
        "import numpy as np\n",
        "import tensorflow as tf\n",
        "from tensorflow import keras\n",
        "from tensorflow.keras import layers\n",
        "import tensorflow_addons as tfa"
      ],
      "metadata": {
        "id": "RWZNjnRYCZ4v"
      },
      "execution_count": null,
      "outputs": []
    },
    {
      "cell_type": "markdown",
      "source": [
        "## 데이터 준비"
      ],
      "metadata": {
        "id": "oSXoU9teC_H9"
      }
    },
    {
      "cell_type": "code",
      "source": [
        "num_classes = 100\n",
        "input_shape = (32, 32, 3)\n",
        "\n",
        "(x_train, y_train), (x_test, y_test) = keras.datasets.cifar100.load_data()\n",
        "\n",
        "print(f\"x_train shape: {x_train.shape} - y_train shape: {y_train.shape}\")\n",
        "print(f\"x_test shape: {x_test.shape} - y_test shape: {y_test.shape}\")"
      ],
      "metadata": {
        "colab": {
          "base_uri": "https://localhost:8080/"
        },
        "id": "BpQ-d63WDBCH",
        "outputId": "d2504e40-b393-464b-d20b-1bb0a955603e"
      },
      "execution_count": null,
      "outputs": [
        {
          "output_type": "stream",
          "name": "stdout",
          "text": [
            "Downloading data from https://www.cs.toronto.edu/~kriz/cifar-100-python.tar.gz\n",
            "169009152/169001437 [==============================] - 2s 0us/step\n",
            "169017344/169001437 [==============================] - 2s 0us/step\n",
            "x_train shape: (50000, 32, 32, 3) - y_train shape: (50000, 1)\n",
            "x_test shape: (10000, 32, 32, 3) - y_test shape: (10000, 1)\n"
          ]
        }
      ]
    },
    {
      "cell_type": "markdown",
      "source": [
        "## 초매개변수(hyperparameters) 구성하기"
      ],
      "metadata": {
        "id": "x2oMQRb38Eif"
      }
    },
    {
      "cell_type": "code",
      "source": [
        "learning_rate = 0.001\n",
        "weight_decay = 0.0001\n",
        "batch_size = 256\n",
        "num_epochs = 100\n",
        "image_size = 72  # 입력 이미지의 크기를 이 size로 조정합니다.\n",
        "patch_size = 6  # 입력 이미지에서 추출할 패치의 size\n",
        "num_patches = (image_size // patch_size) ** 2\n",
        "projection_dim = 64\n",
        "num_heads = 4\n",
        "transformer_units = [\n",
        "    projection_dim * 2,\n",
        "    projection_dim,\n",
        "]  # transformer 레이어들의 크기\n",
        "transformer_layers = 8\n",
        "mlp_head_units = [2048, 1024]  # 최종 분류기의 조밀한 레이어 크기"
      ],
      "metadata": {
        "id": "AJ3jPS8R8MOL"
      },
      "execution_count": null,
      "outputs": []
    },
    {
      "cell_type": "markdown",
      "source": [
        "## 데이터 증강 사용"
      ],
      "metadata": {
        "id": "ODSRZtiz8hV7"
      }
    },
    {
      "cell_type": "code",
      "source": [
        "data_augmentation = keras.Sequential(\n",
        "    [\n",
        "        layers.Normalization(),\n",
        "        layers.Resizing(image_size, image_size),\n",
        "        layers.RandomFlip(\"horizontal\"),\n",
        "        layers.RandomRotation(factor=0.02),\n",
        "        layers.RandomZoom(\n",
        "            height_factor=0.2, width_factor=0.2\n",
        "        ),\n",
        "    ],\n",
        "    name=\"data_augmentation\",\n",
        ")\n",
        "# \b정규화를 위해 훈련 데이터의 평균과 분산을 계산합니다.\n",
        "data_augmentation.layers[0].adapt(x_train)"
      ],
      "metadata": {
        "id": "Y4wa_82G8mId"
      },
      "execution_count": null,
      "outputs": []
    },
    {
      "cell_type": "markdown",
      "source": [
        "## 다층 퍼셉트론(MLP) 구현"
      ],
      "metadata": {
        "id": "E9AgZI458vRj"
      }
    },
    {
      "cell_type": "code",
      "source": [
        "def mlp(x, hidden_units, dropout_rate):\n",
        "    for units in hidden_units:\n",
        "        x = layers.Dense(units, activation=tf.nn.gelu)(x)\n",
        "        x = layers.Dropout(dropout_rate)(x)\n",
        "    return x"
      ],
      "metadata": {
        "id": "rqY0ObBR8yHE"
      },
      "execution_count": null,
      "outputs": []
    },
    {
      "cell_type": "markdown",
      "source": [
        "## 레이어로 패치 생성 구현"
      ],
      "metadata": {
        "id": "lTKzDeur80eX"
      }
    },
    {
      "cell_type": "code",
      "source": [
        "class Patches(layers.Layer):\n",
        "    def __init__(self, patch_size):\n",
        "        super(Patches, self).__init__()\n",
        "        self.patch_size = patch_size\n",
        "\n",
        "    def call(self, images):\n",
        "        batch_size = tf.shape(images)[0]\n",
        "        patches = tf.image.extract_patches(\n",
        "            images=images,\n",
        "            sizes=[1, self.patch_size, self.patch_size, 1],\n",
        "            strides=[1, self.patch_size, self.patch_size, 1],\n",
        "            rates=[1, 1, 1, 1],\n",
        "            padding=\"VALID\",\n",
        "        )\n",
        "        patch_dims = patches.shape[-1]\n",
        "        patches = tf.reshape(patches, [batch_size, -1, patch_dims])\n",
        "        return patches"
      ],
      "metadata": {
        "id": "xMC9iGfD82eO"
      },
      "execution_count": null,
      "outputs": []
    },
    {
      "cell_type": "markdown",
      "source": [
        "## 샘플 이미지에 대한 패치 표시해보기"
      ],
      "metadata": {
        "id": "j-qtB0YK863-"
      }
    },
    {
      "cell_type": "code",
      "source": [
        "import matplotlib.pyplot as plt\n",
        "\n",
        "plt.figure(figsize=(4, 4))\n",
        "image = x_train[np.random.choice(range(x_train.shape[0]))]\n",
        "plt.imshow(image.astype(\"uint8\"))\n",
        "plt.axis(\"off\")\n",
        "\n",
        "resized_image = tf.image.resize(\n",
        "    tf.convert_to_tensor([image]), size=(image_size, image_size)\n",
        ")\n",
        "patches = Patches(patch_size)(resized_image)\n",
        "print(f\"Image size: {image_size} X {image_size}\")\n",
        "print(f\"Patch size: {patch_size} X {patch_size}\")\n",
        "print(f\"Patches per image: {patches.shape[1]}\")\n",
        "print(f\"Elements per patch: {patches.shape[-1]}\")\n",
        "\n",
        "n = int(np.sqrt(patches.shape[1]))\n",
        "plt.figure(figsize=(4, 4))\n",
        "for i, patch in enumerate(patches[0]):\n",
        "    ax = plt.subplot(n, n, i + 1)\n",
        "    patch_img = tf.reshape(patch, (patch_size, patch_size, 3))\n",
        "    plt.imshow(patch_img.numpy().astype(\"uint8\"))\n",
        "    plt.axis(\"off\")"
      ],
      "metadata": {
        "colab": {
          "base_uri": "https://localhost:8080/",
          "height": 550
        },
        "id": "_N31vRv68-i3",
        "outputId": "7253e89f-5a81-489e-abe3-49a25db1e29d"
      },
      "execution_count": null,
      "outputs": [
        {
          "output_type": "stream",
          "name": "stdout",
          "text": [
            "Image size: 72 X 72\n",
            "Patch size: 6 X 6\n",
            "Patches per image: 144\n",
            "Elements per patch: 108\n"
          ]
        },
        {
          "output_type": "display_data",
          "data": {
            "text/plain": [
              "<Figure size 288x288 with 1 Axes>"
            ],
            "image/png": "[encoded data removed]"
          },
          "metadata": {
            "needs_background": "light"
          }
        },
        {
          "output_type": "display_data",
          "data": {
            "text/plain": [
              "<Figure size 288x288 with 144 Axes>"
            ],
            "image/png": "[encoded data removed]"
          },
          "metadata": {
            "needs_background": "light"
          }
        }
      ]
    },
    {
      "cell_type": "markdown",
      "source": [
        "## 패치 인코딩 계층 구현"
      ],
      "metadata": {
        "id": "tM6fRveW9IVa"
      }
    },
    {
      "cell_type": "markdown",
      "source": [
        "`PatchEncoder`레이어는 패치를 `projection_dim` 크기의 벡터에 투영하여 선형으로 패치를 변환합니다.  \n",
        "또한, 투영된 벡터에 학습 가능한 위치 임베딩을 추가합니다."
      ],
      "metadata": {
        "id": "9FTEwHIQ9ZTD"
      }
    },
    {
      "cell_type": "code",
      "source": [
        "class PatchEncoder(layers.Layer):\n",
        "    def __init__(self, num_patches, projection_dim):\n",
        "        super(PatchEncoder, self).__init__()\n",
        "        self.num_patches = num_patches\n",
        "        self.projection = layers.Dense(units=projection_dim)\n",
        "        self.position_embedding = layers.Embedding(\n",
        "            input_dim=num_patches, output_dim=projection_dim\n",
        "        )\n",
        "\n",
        "    def call(self, patch):\n",
        "        positions = tf.range(start=0, limit=self.num_patches, delta=1)\n",
        "        encoded = self.projection(patch) + self.position_embedding(positions)\n",
        "        return encoded"
      ],
      "metadata": {
        "id": "hnbEGh2E9K7B"
      },
      "execution_count": null,
      "outputs": []
    },
    {
      "cell_type": "markdown",
      "source": [
        "## ViT 모델 구축하기"
      ],
      "metadata": {
        "id": "s_L7EFlV_C-J"
      }
    },
    {
      "cell_type": "markdown",
      "source": [
        "ViT 모델은 `layers.MultiHeadAttention` 레이어를 패치 시퀀스에 적용되는 self-attention 메커니즘으로 사용하는 여러 개의 Transformer 블록으로 구성됩니다. Transformer 블록은 `[batch_size, num_patches, projection_dim]` 텐서를 생성하며, 이는 softmax가 있는 분류기 헤드를 통해 처리되어 최종 클래스 확률 출력을 생성합니다.  \n",
        "<br>\n",
        "이미지 표현으로 사용하기 위해 인코딩된 패치 시퀀스에 학습 가능한 임베딩을 추가하는 [논문](https://arxiv.org/abs/2010.11929)에서 설명된 기술과 달리, 최종 Transformer 블록의 모든 출력은 `layers.Flatten()`으로 재구성되고 분류기 헤드에 대한 이미지 표현 입력으로 사용됩니다. `layers.GlobalAveragePooling1D` 레어어는 특히 패치의 수와 투영 차원이 큰 경우, Transformer 블록의 출력을 집계하는 데 사용할 수도 있습니다."
      ],
      "metadata": {
        "id": "NRT52oaf_L-7"
      }
    },
    {
      "cell_type": "code",
      "source": [
        "def create_vit_classifier():\n",
        "    inputs = layers.Input(shape=input_shape)\n",
        "    # 데이터 보강\n",
        "    augmented = data_augmentation(inputs)\n",
        "    # 패치 생성\n",
        "    patches = Patches(patch_size)(augmented)\n",
        "    # 인코딩 패치\n",
        "    encoded_patches = PatchEncoder(num_patches, projection_dim)(patches)\n",
        "\n",
        "    # \bTransformer 블록의 여러 레이어들을 만듭니다.\n",
        "    for _ in range(transformer_layers):\n",
        "        # Layer normalization(정규화) 1.\n",
        "        x1 = layers.LayerNormalization(epsilon=1e-6)(encoded_patches)\n",
        "        # multi-head attention layer 생성.\n",
        "        attention_output = layers.MultiHeadAttention(\n",
        "            num_heads=num_heads, key_dim=projection_dim, dropout=0.1\n",
        "        )(x1, x1)\n",
        "        # Skip connection 1.\n",
        "        x2 = layers.Add()([attention_output, encoded_patches])\n",
        "        # Layer normalization(정규화) 2.\n",
        "        x3 = layers.LayerNormalization(epsilon=1e-6)(x2)\n",
        "        # MLP.\n",
        "        x3 = mlp(x3, hidden_units=transformer_units, dropout_rate=0.1)\n",
        "        # Skip connection 2.\n",
        "        encoded_patches = layers.Add()([x3, x2])\n",
        "\n",
        "    # [batch_size, projection_dim] tensor 생성.\n",
        "    representation = layers.LayerNormalization(epsilon=1e-6)(encoded_patches)\n",
        "    representation = layers.Flatten()(representation)\n",
        "    representation = layers.Dropout(0.5)(representation)\n",
        "    # MLP 추가\n",
        "    features = mlp(representation, hidden_units=mlp_head_units, dropout_rate=0.5)\n",
        "    # \b출력 분류\n",
        "    logits = layers.Dense(num_classes)(features)\n",
        "    # \bKeras 모델을 생성합니다.\n",
        "    model = keras.Model(inputs=inputs, outputs=logits)\n",
        "    return model"
      ],
      "metadata": {
        "id": "udL52X_7Ffcf"
      },
      "execution_count": null,
      "outputs": []
    },
    {
      "cell_type": "markdown",
      "source": [
        "## 모드 컴파일, 훈련 및 평가"
      ],
      "metadata": {
        "id": "yIbn8JtNFwBK"
      }
    },
    {
      "cell_type": "code",
      "source": [
        "def run_experiment(model):\n",
        "    optimizer = tfa.optimizers.AdamW(\n",
        "        learning_rate=learning_rate, weight_decay=weight_decay\n",
        "    )\n",
        "\n",
        "    model.compile(\n",
        "        optimizer=optimizer,\n",
        "        loss=keras.losses.SparseCategoricalCrossentropy(from_logits=True),\n",
        "        metrics=[\n",
        "            keras.metrics.SparseCategoricalAccuracy(name=\"accuracy\"),\n",
        "            keras.metrics.SparseTopKCategoricalAccuracy(5, name=\"top-5-accuracy\"),\n",
        "        ],\n",
        "    )\n",
        "\n",
        "    checkpoint_filepath = \"/tmp/checkpoint\"\n",
        "    checkpoint_callback = keras.callbacks.ModelCheckpoint(\n",
        "        checkpoint_filepath,\n",
        "        monitor=\"val_accuracy\",\n",
        "        save_best_only=True,\n",
        "        save_weights_only=True,\n",
        "    )\n",
        "\n",
        "    history = model.fit(\n",
        "        x=x_train,\n",
        "        y=y_train,\n",
        "        batch_size=batch_size,\n",
        "        epochs=num_epochs,\n",
        "        validation_split=0.1,\n",
        "        callbacks=[checkpoint_callback],\n",
        "    )\n",
        "\n",
        "    model.load_weights(checkpoint_filepath)\n",
        "    _, accuracy, top_5_accuracy = model.evaluate(x_test, y_test)\n",
        "    print(f\"Test accuracy: {round(accuracy * 100, 2)}%\")\n",
        "    print(f\"Test top 5 accuracy: {round(top_5_accuracy * 100, 2)}%\")\n",
        "\n",
        "    return history\n",
        "\n",
        "\n",
        "vit_classifier = create_vit_classifier()\n",
        "history = run_experiment(vit_classifier)"
      ],
      "metadata": {
        "colab": {
          "base_uri": "https://localhost:8080/"
        },
        "id": "PtOFMirEF7In",
        "outputId": "15c3ed5d-80d6-425e-cb5e-088e6cf9d59b"
      },
      "execution_count": null,
      "outputs": [
        {
          "output_type": "stream",
          "name": "stdout",
          "text": [
            "Epoch 1/100\n",
            "176/176 [==============================] - 80s 381ms/step - loss: 4.4562 - accuracy: 0.0497 - top-5-accuracy: 0.1707 - val_loss: 3.8850 - val_accuracy: 0.1146 - val_top-5-accuracy: 0.3248\n",
            "Epoch 2/100\n",
            "176/176 [==============================] - 68s 384ms/step - loss: 3.9026 - accuracy: 0.1017 - top-5-accuracy: 0.3040 - val_loss: 3.5233 - val_accuracy: 0.1670 - val_top-5-accuracy: 0.4270\n",
            "Epoch 3/100\n",
            "176/176 [==============================] - 71s 403ms/step - loss: 3.6631 - accuracy: 0.1381 - top-5-accuracy: 0.3806 - val_loss: 3.3009 - val_accuracy: 0.2052 - val_top-5-accuracy: 0.4826\n",
            "Epoch 4/100\n",
            "176/176 [==============================] - 71s 401ms/step - loss: 3.4642 - accuracy: 0.1704 - top-5-accuracy: 0.4348 - val_loss: 3.2084 - val_accuracy: 0.2294 - val_top-5-accuracy: 0.5050\n",
            "Epoch 5/100\n",
            "176/176 [==============================] - 71s 402ms/step - loss: 3.3173 - accuracy: 0.1947 - top-5-accuracy: 0.4763 - val_loss: 3.0046 - val_accuracy: 0.2610 - val_top-5-accuracy: 0.5610\n",
            "Epoch 6/100\n",
            "176/176 [==============================] - 71s 403ms/step - loss: 3.1964 - accuracy: 0.2202 - top-5-accuracy: 0.5056 - val_loss: 2.8801 - val_accuracy: 0.2806 - val_top-5-accuracy: 0.5826\n",
            "Epoch 7/100\n",
            "176/176 [==============================] - 71s 403ms/step - loss: 3.0679 - accuracy: 0.2440 - top-5-accuracy: 0.5412 - val_loss: 2.7855 - val_accuracy: 0.3024 - val_top-5-accuracy: 0.6108\n",
            "Epoch 8/100\n",
            "176/176 [==============================] - 71s 405ms/step - loss: 2.9438 - accuracy: 0.2700 - top-5-accuracy: 0.5722 - val_loss: 2.6653 - val_accuracy: 0.3220 - val_top-5-accuracy: 0.6376\n",
            "Epoch 9/100\n",
            "176/176 [==============================] - 71s 403ms/step - loss: 2.8332 - accuracy: 0.2890 - top-5-accuracy: 0.5981 - val_loss: 2.5967 - val_accuracy: 0.3376 - val_top-5-accuracy: 0.6476\n",
            "Epoch 10/100\n",
            "176/176 [==============================] - 71s 403ms/step - loss: 2.7252 - accuracy: 0.3101 - top-5-accuracy: 0.6240 - val_loss: 2.4966 - val_accuracy: 0.3564 - val_top-5-accuracy: 0.6706\n",
            "Epoch 11/100\n",
            "176/176 [==============================] - 71s 404ms/step - loss: 2.6388 - accuracy: 0.3290 - top-5-accuracy: 0.6402 - val_loss: 2.4180 - val_accuracy: 0.3750 - val_top-5-accuracy: 0.6850\n",
            "Epoch 12/100\n",
            "176/176 [==============================] - 71s 403ms/step - loss: 2.5484 - accuracy: 0.3447 - top-5-accuracy: 0.6620 - val_loss: 2.3643 - val_accuracy: 0.3908 - val_top-5-accuracy: 0.6966\n",
            "Epoch 13/100\n",
            "176/176 [==============================] - 71s 404ms/step - loss: 2.4695 - accuracy: 0.3627 - top-5-accuracy: 0.6785 - val_loss: 2.3208 - val_accuracy: 0.3974 - val_top-5-accuracy: 0.7030\n",
            "Epoch 14/100\n",
            "176/176 [==============================] - 71s 404ms/step - loss: 2.4000 - accuracy: 0.3770 - top-5-accuracy: 0.6934 - val_loss: 2.2645 - val_accuracy: 0.4172 - val_top-5-accuracy: 0.7130\n",
            "Epoch 15/100\n",
            "176/176 [==============================] - 71s 403ms/step - loss: 2.3256 - accuracy: 0.3930 - top-5-accuracy: 0.7101 - val_loss: 2.1909 - val_accuracy: 0.4280 - val_top-5-accuracy: 0.7316\n",
            "Epoch 16/100\n",
            "176/176 [==============================] - 71s 402ms/step - loss: 2.2576 - accuracy: 0.4078 - top-5-accuracy: 0.7243 - val_loss: 2.1758 - val_accuracy: 0.4306 - val_top-5-accuracy: 0.7354\n",
            "Epoch 17/100\n",
            "176/176 [==============================] - 71s 402ms/step - loss: 2.1889 - accuracy: 0.4210 - top-5-accuracy: 0.7366 - val_loss: 2.1016 - val_accuracy: 0.4468 - val_top-5-accuracy: 0.7474\n",
            "Epoch 18/100\n",
            "176/176 [==============================] - 71s 402ms/step - loss: 2.1228 - accuracy: 0.4358 - top-5-accuracy: 0.7503 - val_loss: 2.0615 - val_accuracy: 0.4524 - val_top-5-accuracy: 0.7582\n",
            "Epoch 19/100\n",
            "176/176 [==============================] - 70s 396ms/step - loss: 2.0600 - accuracy: 0.4502 - top-5-accuracy: 0.7635 - val_loss: 2.0597 - val_accuracy: 0.4520 - val_top-5-accuracy: 0.7550\n",
            "Epoch 20/100\n",
            "176/176 [==============================] - 70s 400ms/step - loss: 2.0121 - accuracy: 0.4607 - top-5-accuracy: 0.7716 - val_loss: 2.0014 - val_accuracy: 0.4738 - val_top-5-accuracy: 0.7658\n",
            "Epoch 21/100\n",
            "176/176 [==============================] - 70s 400ms/step - loss: 1.9461 - accuracy: 0.4732 - top-5-accuracy: 0.7850 - val_loss: 1.9997 - val_accuracy: 0.4760 - val_top-5-accuracy: 0.7660\n",
            "Epoch 22/100\n",
            "176/176 [==============================] - 70s 399ms/step - loss: 1.8933 - accuracy: 0.4860 - top-5-accuracy: 0.7938 - val_loss: 1.9543 - val_accuracy: 0.4748 - val_top-5-accuracy: 0.7794\n",
            "Epoch 23/100\n",
            "176/176 [==============================] - 71s 402ms/step - loss: 1.8487 - accuracy: 0.4966 - top-5-accuracy: 0.8027 - val_loss: 1.9253 - val_accuracy: 0.4850 - val_top-5-accuracy: 0.7826\n",
            "Epoch 24/100\n",
            "176/176 [==============================] - 71s 404ms/step - loss: 1.8024 - accuracy: 0.5053 - top-5-accuracy: 0.8111 - val_loss: 1.9193 - val_accuracy: 0.4916 - val_top-5-accuracy: 0.7820\n",
            "Epoch 25/100\n",
            "176/176 [==============================] - 71s 402ms/step - loss: 1.7667 - accuracy: 0.5129 - top-5-accuracy: 0.8170 - val_loss: 1.9030 - val_accuracy: 0.4958 - val_top-5-accuracy: 0.7834\n",
            "Epoch 26/100\n",
            "176/176 [==============================] - 71s 402ms/step - loss: 1.7268 - accuracy: 0.5245 - top-5-accuracy: 0.8228 - val_loss: 1.8935 - val_accuracy: 0.5020 - val_top-5-accuracy: 0.7850\n",
            "Epoch 27/100\n",
            "176/176 [==============================] - 70s 399ms/step - loss: 1.6845 - accuracy: 0.5321 - top-5-accuracy: 0.8324 - val_loss: 1.8962 - val_accuracy: 0.4972 - val_top-5-accuracy: 0.7904\n",
            "Epoch 28/100\n",
            "176/176 [==============================] - 71s 404ms/step - loss: 1.6548 - accuracy: 0.5405 - top-5-accuracy: 0.8376 - val_loss: 1.8809 - val_accuracy: 0.5042 - val_top-5-accuracy: 0.7900\n",
            "Epoch 29/100\n",
            "176/176 [==============================] - 71s 405ms/step - loss: 1.6210 - accuracy: 0.5483 - top-5-accuracy: 0.8422 - val_loss: 1.8464 - val_accuracy: 0.5142 - val_top-5-accuracy: 0.7958\n",
            "Epoch 30/100\n",
            "176/176 [==============================] - 71s 403ms/step - loss: 1.5691 - accuracy: 0.5605 - top-5-accuracy: 0.8531 - val_loss: 1.8341 - val_accuracy: 0.5154 - val_top-5-accuracy: 0.7962\n",
            "Epoch 31/100\n",
            "176/176 [==============================] - 71s 402ms/step - loss: 1.5332 - accuracy: 0.5703 - top-5-accuracy: 0.8584 - val_loss: 1.8327 - val_accuracy: 0.5234 - val_top-5-accuracy: 0.8006\n",
            "Epoch 32/100\n",
            "176/176 [==============================] - 71s 403ms/step - loss: 1.5127 - accuracy: 0.5739 - top-5-accuracy: 0.8618 - val_loss: 1.8142 - val_accuracy: 0.5238 - val_top-5-accuracy: 0.8018\n",
            "Epoch 33/100\n",
            "176/176 [==============================] - 70s 399ms/step - loss: 1.4781 - accuracy: 0.5830 - top-5-accuracy: 0.8664 - val_loss: 1.8082 - val_accuracy: 0.5182 - val_top-5-accuracy: 0.8058\n",
            "Epoch 34/100\n",
            "176/176 [==============================] - 70s 398ms/step - loss: 1.4560 - accuracy: 0.5865 - top-5-accuracy: 0.8714 - val_loss: 1.8609 - val_accuracy: 0.5096 - val_top-5-accuracy: 0.7920\n",
            "Epoch 35/100\n",
            "176/176 [==============================] - 70s 396ms/step - loss: 1.4286 - accuracy: 0.5930 - top-5-accuracy: 0.8765 - val_loss: 1.8363 - val_accuracy: 0.5192 - val_top-5-accuracy: 0.8018\n",
            "Epoch 36/100\n",
            "176/176 [==============================] - 71s 401ms/step - loss: 1.4009 - accuracy: 0.5998 - top-5-accuracy: 0.8796 - val_loss: 1.8207 - val_accuracy: 0.5270 - val_top-5-accuracy: 0.8096\n",
            "Epoch 37/100\n",
            "176/176 [==============================] - 70s 396ms/step - loss: 1.3818 - accuracy: 0.6075 - top-5-accuracy: 0.8831 - val_loss: 1.7930 - val_accuracy: 0.5188 - val_top-5-accuracy: 0.8102\n",
            "Epoch 38/100\n",
            "176/176 [==============================] - 70s 396ms/step - loss: 1.3517 - accuracy: 0.6109 - top-5-accuracy: 0.8890 - val_loss: 1.8320 - val_accuracy: 0.5172 - val_top-5-accuracy: 0.8058\n",
            "Epoch 39/100\n",
            "176/176 [==============================] - 71s 403ms/step - loss: 1.3320 - accuracy: 0.6210 - top-5-accuracy: 0.8886 - val_loss: 1.8236 - val_accuracy: 0.5280 - val_top-5-accuracy: 0.8048\n",
            "Epoch 40/100\n",
            "176/176 [==============================] - 71s 402ms/step - loss: 1.3087 - accuracy: 0.6219 - top-5-accuracy: 0.8935 - val_loss: 1.7925 - val_accuracy: 0.5290 - val_top-5-accuracy: 0.8122\n",
            "Epoch 41/100\n",
            "176/176 [==============================] - 70s 399ms/step - loss: 1.2815 - accuracy: 0.6318 - top-5-accuracy: 0.8966 - val_loss: 1.8109 - val_accuracy: 0.5242 - val_top-5-accuracy: 0.8090\n",
            "Epoch 42/100\n",
            "176/176 [==============================] - 71s 403ms/step - loss: 1.2626 - accuracy: 0.6360 - top-5-accuracy: 0.8996 - val_loss: 1.8130 - val_accuracy: 0.5294 - val_top-5-accuracy: 0.8042\n",
            "Epoch 43/100\n",
            "176/176 [==============================] - 70s 400ms/step - loss: 1.2508 - accuracy: 0.6375 - top-5-accuracy: 0.9016 - val_loss: 1.8273 - val_accuracy: 0.5200 - val_top-5-accuracy: 0.8096\n",
            "Epoch 44/100\n",
            "176/176 [==============================] - 70s 399ms/step - loss: 1.2267 - accuracy: 0.6426 - top-5-accuracy: 0.9065 - val_loss: 1.8337 - val_accuracy: 0.5234 - val_top-5-accuracy: 0.8072\n",
            "Epoch 45/100\n",
            "176/176 [==============================] - 70s 399ms/step - loss: 1.2070 - accuracy: 0.6506 - top-5-accuracy: 0.9089 - val_loss: 1.8169 - val_accuracy: 0.5230 - val_top-5-accuracy: 0.8090\n",
            "Epoch 46/100\n",
            "176/176 [==============================] - 71s 401ms/step - loss: 1.1952 - accuracy: 0.6527 - top-5-accuracy: 0.9121 - val_loss: 1.7900 - val_accuracy: 0.5352 - val_top-5-accuracy: 0.8186\n",
            "Epoch 47/100\n",
            "176/176 [==============================] - 70s 397ms/step - loss: 1.1562 - accuracy: 0.6634 - top-5-accuracy: 0.9162 - val_loss: 1.8349 - val_accuracy: 0.5308 - val_top-5-accuracy: 0.8116\n",
            "Epoch 48/100\n",
            "176/176 [==============================] - 70s 401ms/step - loss: 1.1472 - accuracy: 0.6672 - top-5-accuracy: 0.9175 - val_loss: 1.8163 - val_accuracy: 0.5418 - val_top-5-accuracy: 0.8196\n",
            "Epoch 49/100\n",
            "176/176 [==============================] - 70s 399ms/step - loss: 1.1361 - accuracy: 0.6668 - top-5-accuracy: 0.9179 - val_loss: 1.8446 - val_accuracy: 0.5364 - val_top-5-accuracy: 0.8078\n",
            "Epoch 50/100\n",
            "176/176 [==============================] - 70s 398ms/step - loss: 1.1205 - accuracy: 0.6703 - top-5-accuracy: 0.9208 - val_loss: 1.8211 - val_accuracy: 0.5348 - val_top-5-accuracy: 0.8134\n",
            "Epoch 51/100\n",
            "176/176 [==============================] - 70s 399ms/step - loss: 1.1116 - accuracy: 0.6739 - top-5-accuracy: 0.9212 - val_loss: 1.8305 - val_accuracy: 0.5408 - val_top-5-accuracy: 0.8124\n",
            "Epoch 52/100\n",
            "176/176 [==============================] - 71s 404ms/step - loss: 1.0928 - accuracy: 0.6782 - top-5-accuracy: 0.9258 - val_loss: 1.8117 - val_accuracy: 0.5426 - val_top-5-accuracy: 0.8180\n",
            "Epoch 53/100\n",
            "176/176 [==============================] - 70s 400ms/step - loss: 1.0902 - accuracy: 0.6811 - top-5-accuracy: 0.9260 - val_loss: 1.8159 - val_accuracy: 0.5336 - val_top-5-accuracy: 0.8178\n",
            "Epoch 54/100\n",
            "176/176 [==============================] - 70s 400ms/step - loss: 1.0630 - accuracy: 0.6878 - top-5-accuracy: 0.9296 - val_loss: 1.8236 - val_accuracy: 0.5392 - val_top-5-accuracy: 0.8180\n",
            "Epoch 55/100\n",
            "176/176 [==============================] - 70s 399ms/step - loss: 1.0483 - accuracy: 0.6884 - top-5-accuracy: 0.9303 - val_loss: 1.8193 - val_accuracy: 0.5380 - val_top-5-accuracy: 0.8138\n",
            "Epoch 56/100\n",
            "176/176 [==============================] - 70s 398ms/step - loss: 1.0345 - accuracy: 0.6938 - top-5-accuracy: 0.9316 - val_loss: 1.8233 - val_accuracy: 0.5410 - val_top-5-accuracy: 0.8182\n",
            "Epoch 57/100\n",
            "176/176 [==============================] - 70s 399ms/step - loss: 1.0242 - accuracy: 0.6953 - top-5-accuracy: 0.9334 - val_loss: 1.8090 - val_accuracy: 0.5400 - val_top-5-accuracy: 0.8148\n",
            "Epoch 58/100\n",
            "176/176 [==============================] - 71s 404ms/step - loss: 1.0192 - accuracy: 0.6975 - top-5-accuracy: 0.9340 - val_loss: 1.8110 - val_accuracy: 0.5490 - val_top-5-accuracy: 0.8158\n",
            "Epoch 59/100\n",
            "176/176 [==============================] - 70s 399ms/step - loss: 1.0075 - accuracy: 0.7029 - top-5-accuracy: 0.9349 - val_loss: 1.8368 - val_accuracy: 0.5408 - val_top-5-accuracy: 0.8184\n",
            "Epoch 60/100\n",
            "176/176 [==============================] - 70s 399ms/step - loss: 0.9992 - accuracy: 0.7033 - top-5-accuracy: 0.9364 - val_loss: 1.8232 - val_accuracy: 0.5462 - val_top-5-accuracy: 0.8192\n",
            "Epoch 61/100\n",
            "176/176 [==============================] - 71s 404ms/step - loss: 0.9832 - accuracy: 0.7064 - top-5-accuracy: 0.9385 - val_loss: 1.8166 - val_accuracy: 0.5532 - val_top-5-accuracy: 0.8188\n",
            "Epoch 62/100\n",
            "176/176 [==============================] - 70s 399ms/step - loss: 0.9688 - accuracy: 0.7111 - top-5-accuracy: 0.9405 - val_loss: 1.7861 - val_accuracy: 0.5494 - val_top-5-accuracy: 0.8202\n",
            "Epoch 63/100\n",
            "176/176 [==============================] - 70s 399ms/step - loss: 0.9598 - accuracy: 0.7148 - top-5-accuracy: 0.9408 - val_loss: 1.8405 - val_accuracy: 0.5380 - val_top-5-accuracy: 0.8110\n",
            "Epoch 64/100\n",
            "176/176 [==============================] - 70s 398ms/step - loss: 0.9604 - accuracy: 0.7137 - top-5-accuracy: 0.9417 - val_loss: 1.8355 - val_accuracy: 0.5444 - val_top-5-accuracy: 0.8112\n",
            "Epoch 65/100\n",
            "176/176 [==============================] - 70s 398ms/step - loss: 0.9396 - accuracy: 0.7195 - top-5-accuracy: 0.9449 - val_loss: 1.8311 - val_accuracy: 0.5528 - val_top-5-accuracy: 0.8156\n",
            "Epoch 66/100\n",
            "176/176 [==============================] - 70s 398ms/step - loss: 0.9344 - accuracy: 0.7185 - top-5-accuracy: 0.9437 - val_loss: 1.8453 - val_accuracy: 0.5452 - val_top-5-accuracy: 0.8198\n",
            "Epoch 67/100\n",
            "176/176 [==============================] - 71s 402ms/step - loss: 0.9294 - accuracy: 0.7232 - top-5-accuracy: 0.9450 - val_loss: 1.8472 - val_accuracy: 0.5540 - val_top-5-accuracy: 0.8132\n",
            "Epoch 68/100\n",
            "176/176 [==============================] - 70s 397ms/step - loss: 0.9145 - accuracy: 0.7243 - top-5-accuracy: 0.9465 - val_loss: 1.8152 - val_accuracy: 0.5538 - val_top-5-accuracy: 0.8234\n",
            "Epoch 69/100\n",
            "176/176 [==============================] - 70s 396ms/step - loss: 0.9178 - accuracy: 0.7268 - top-5-accuracy: 0.9463 - val_loss: 1.8980 - val_accuracy: 0.5466 - val_top-5-accuracy: 0.8130\n",
            "Epoch 70/100\n",
            "176/176 [==============================] - 70s 396ms/step - loss: 0.9058 - accuracy: 0.7297 - top-5-accuracy: 0.9486 - val_loss: 1.8313 - val_accuracy: 0.5500 - val_top-5-accuracy: 0.8180\n",
            "Epoch 71/100\n",
            "176/176 [==============================] - 69s 395ms/step - loss: 0.8974 - accuracy: 0.7309 - top-5-accuracy: 0.9498 - val_loss: 1.8364 - val_accuracy: 0.5498 - val_top-5-accuracy: 0.8202\n",
            "Epoch 72/100\n",
            "176/176 [==============================] - 70s 396ms/step - loss: 0.8867 - accuracy: 0.7337 - top-5-accuracy: 0.9499 - val_loss: 1.8685 - val_accuracy: 0.5494 - val_top-5-accuracy: 0.8194\n",
            "Epoch 73/100\n",
            "176/176 [==============================] - 70s 396ms/step - loss: 0.8812 - accuracy: 0.7381 - top-5-accuracy: 0.9504 - val_loss: 1.8571 - val_accuracy: 0.5514 - val_top-5-accuracy: 0.8200\n",
            "Epoch 74/100\n",
            "176/176 [==============================] - 70s 396ms/step - loss: 0.8712 - accuracy: 0.7387 - top-5-accuracy: 0.9507 - val_loss: 1.8468 - val_accuracy: 0.5498 - val_top-5-accuracy: 0.8164\n",
            "Epoch 75/100\n",
            "176/176 [==============================] - 70s 396ms/step - loss: 0.8719 - accuracy: 0.7402 - top-5-accuracy: 0.9514 - val_loss: 1.8286 - val_accuracy: 0.5408 - val_top-5-accuracy: 0.8172\n",
            "Epoch 76/100\n",
            "176/176 [==============================] - 70s 399ms/step - loss: 0.8690 - accuracy: 0.7382 - top-5-accuracy: 0.9524 - val_loss: 1.8688 - val_accuracy: 0.5536 - val_top-5-accuracy: 0.8182\n",
            "Epoch 77/100\n",
            "176/176 [==============================] - 70s 400ms/step - loss: 0.8624 - accuracy: 0.7409 - top-5-accuracy: 0.9519 - val_loss: 1.8934 - val_accuracy: 0.5442 - val_top-5-accuracy: 0.8128\n",
            "Epoch 78/100\n",
            "176/176 [==============================] - 71s 404ms/step - loss: 0.8561 - accuracy: 0.7434 - top-5-accuracy: 0.9537 - val_loss: 1.8729 - val_accuracy: 0.5546 - val_top-5-accuracy: 0.8170\n",
            "Epoch 79/100\n",
            "176/176 [==============================] - 70s 400ms/step - loss: 0.8341 - accuracy: 0.7473 - top-5-accuracy: 0.9550 - val_loss: 1.8928 - val_accuracy: 0.5482 - val_top-5-accuracy: 0.8170\n",
            "Epoch 80/100\n",
            "176/176 [==============================] - 70s 400ms/step - loss: 0.8436 - accuracy: 0.7456 - top-5-accuracy: 0.9541 - val_loss: 1.8824 - val_accuracy: 0.5496 - val_top-5-accuracy: 0.8170\n",
            "Epoch 81/100\n",
            "176/176 [==============================] - 70s 399ms/step - loss: 0.8247 - accuracy: 0.7499 - top-5-accuracy: 0.9579 - val_loss: 1.8689 - val_accuracy: 0.5458 - val_top-5-accuracy: 0.8218\n",
            "Epoch 82/100\n",
            "176/176 [==============================] - 70s 399ms/step - loss: 0.8254 - accuracy: 0.7533 - top-5-accuracy: 0.9555 - val_loss: 1.8743 - val_accuracy: 0.5522 - val_top-5-accuracy: 0.8238\n",
            "Epoch 83/100\n",
            "176/176 [==============================] - 70s 398ms/step - loss: 0.8231 - accuracy: 0.7513 - top-5-accuracy: 0.9567 - val_loss: 1.8873 - val_accuracy: 0.5460 - val_top-5-accuracy: 0.8152\n",
            "Epoch 84/100\n",
            "176/176 [==============================] - 70s 397ms/step - loss: 0.8141 - accuracy: 0.7551 - top-5-accuracy: 0.9579 - val_loss: 1.8691 - val_accuracy: 0.5480 - val_top-5-accuracy: 0.8166\n",
            "Epoch 85/100\n",
            "176/176 [==============================] - 70s 401ms/step - loss: 0.8111 - accuracy: 0.7559 - top-5-accuracy: 0.9579 - val_loss: 1.8679 - val_accuracy: 0.5548 - val_top-5-accuracy: 0.8188\n",
            "Epoch 86/100\n",
            "176/176 [==============================] - 70s 396ms/step - loss: 0.8094 - accuracy: 0.7569 - top-5-accuracy: 0.9586 - val_loss: 1.9486 - val_accuracy: 0.5470 - val_top-5-accuracy: 0.8074\n",
            "Epoch 87/100\n",
            "176/176 [==============================] - 70s 396ms/step - loss: 0.8078 - accuracy: 0.7562 - top-5-accuracy: 0.9581 - val_loss: 1.8823 - val_accuracy: 0.5500 - val_top-5-accuracy: 0.8124\n",
            "Epoch 88/100\n",
            "176/176 [==============================] - 70s 396ms/step - loss: 0.8020 - accuracy: 0.7607 - top-5-accuracy: 0.9580 - val_loss: 1.8730 - val_accuracy: 0.5504 - val_top-5-accuracy: 0.8168\n",
            "Epoch 89/100\n",
            "176/176 [==============================] - 70s 399ms/step - loss: 0.7820 - accuracy: 0.7650 - top-5-accuracy: 0.9592 - val_loss: 1.8298 - val_accuracy: 0.5604 - val_top-5-accuracy: 0.8236\n",
            "Epoch 90/100\n",
            "176/176 [==============================] - 70s 395ms/step - loss: 0.7765 - accuracy: 0.7656 - top-5-accuracy: 0.9623 - val_loss: 1.8374 - val_accuracy: 0.5572 - val_top-5-accuracy: 0.8232\n",
            "Epoch 91/100\n",
            "176/176 [==============================] - 70s 396ms/step - loss: 0.7904 - accuracy: 0.7625 - top-5-accuracy: 0.9592 - val_loss: 1.8627 - val_accuracy: 0.5552 - val_top-5-accuracy: 0.8176\n",
            "Epoch 92/100\n",
            "176/176 [==============================] - 70s 397ms/step - loss: 0.7794 - accuracy: 0.7645 - top-5-accuracy: 0.9611 - val_loss: 1.8684 - val_accuracy: 0.5520 - val_top-5-accuracy: 0.8198\n",
            "Epoch 93/100\n",
            "176/176 [==============================] - 71s 403ms/step - loss: 0.7648 - accuracy: 0.7698 - top-5-accuracy: 0.9620 - val_loss: 1.8554 - val_accuracy: 0.5618 - val_top-5-accuracy: 0.8160\n",
            "Epoch 94/100\n",
            "176/176 [==============================] - 70s 398ms/step - loss: 0.7752 - accuracy: 0.7655 - top-5-accuracy: 0.9602 - val_loss: 1.9109 - val_accuracy: 0.5506 - val_top-5-accuracy: 0.8176\n",
            "Epoch 95/100\n",
            "176/176 [==============================] - 70s 398ms/step - loss: 0.7681 - accuracy: 0.7688 - top-5-accuracy: 0.9612 - val_loss: 1.8640 - val_accuracy: 0.5524 - val_top-5-accuracy: 0.8188\n",
            "Epoch 96/100\n",
            "176/176 [==============================] - 70s 398ms/step - loss: 0.7620 - accuracy: 0.7723 - top-5-accuracy: 0.9621 - val_loss: 1.9013 - val_accuracy: 0.5540 - val_top-5-accuracy: 0.8234\n",
            "Epoch 97/100\n",
            "176/176 [==============================] - 70s 399ms/step - loss: 0.7584 - accuracy: 0.7732 - top-5-accuracy: 0.9620 - val_loss: 1.8491 - val_accuracy: 0.5546 - val_top-5-accuracy: 0.8228\n",
            "Epoch 98/100\n",
            "176/176 [==============================] - 70s 399ms/step - loss: 0.7465 - accuracy: 0.7742 - top-5-accuracy: 0.9629 - val_loss: 1.9084 - val_accuracy: 0.5528 - val_top-5-accuracy: 0.8164\n",
            "Epoch 99/100\n",
            "176/176 [==============================] - 70s 399ms/step - loss: 0.7543 - accuracy: 0.7736 - top-5-accuracy: 0.9634 - val_loss: 1.9022 - val_accuracy: 0.5538 - val_top-5-accuracy: 0.8162\n",
            "Epoch 100/100\n",
            "176/176 [==============================] - 70s 399ms/step - loss: 0.7584 - accuracy: 0.7740 - top-5-accuracy: 0.9632 - val_loss: 1.8869 - val_accuracy: 0.5554 - val_top-5-accuracy: 0.8216\n",
            "313/313 [==============================] - 7s 24ms/step - loss: 1.8264 - accuracy: 0.5594 - top-5-accuracy: 0.8172\n",
            "Test accuracy: 55.94%\n",
            "Test top 5 accuracy: 81.72%\n"
          ]
        }
      ]
    },
    {
      "cell_type": "markdown",
      "source": [
        "100 apochs 후에, ViT 모델은 테스트 데이터에서 약 56%의 정확도와 82%의 상위 5개의 정확도를 달성하는 것을 확인할 수 있었습니다.  "
      ],
      "metadata": {
        "id": "jvQyUwtQvjRJ"
      }
    }
  ]
}